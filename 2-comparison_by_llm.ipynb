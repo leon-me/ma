{
 "cells": [
  {
   "cell_type": "code",
   "execution_count": null,
   "id": "1ec48a0f",
   "metadata": {},
   "outputs": [
    {
     "name": "stdout",
     "output_type": "stream",
     "text": [
      "-- 100134 & 100139 --\n",
      "expected result: False\n",
      "actual result: False\n",
      "\u001b[32mCheck!\u001b[0m\n",
      "-- 100134 & 134 --\n",
      "expected result: True\n",
      "actual result: False\n",
      "\u001b[31mWrong!\u001b[0m\n",
      "-- 100134 & 127 --\n",
      "expected result: False\n",
      "actual result: False\n",
      "\u001b[32mCheck!\u001b[0m\n",
      "-- 100134 & 70 --\n",
      "expected result: False\n",
      "actual result: False\n",
      "\u001b[32mCheck!\u001b[0m\n"
     ]
    }
   ],
   "source": [
    "import importlib\n",
    "from termcolor import colored\n",
    "from utils import io_helpers\n",
    "from utils import llm\n",
    "\n",
    "importlib.reload(io_helpers)\n",
    "\n",
    "documents = io_helpers.get_documents(read_relations=True)\n",
    "\n",
    "prompts = io_helpers.get_prompt(name=\"comparison/check_for_contradictions\")\n",
    "system_prompt = prompts[\"system_prompt\"]\n",
    "\n",
    "initial_doc_pairs = [\n",
    "    (100134, 100139, False),\n",
    "    (100134, 134, True),\n",
    "    (100134, 127, False),\n",
    "    (100134, 70, False),\n",
    "]\n",
    "\n",
    "\n",
    "for id1, id2, expected_result in initial_doc_pairs:\n",
    "    text1 = documents[documents[\"doc_id\"].astype(int) == int(id1)].squeeze()[\"content\"]\n",
    "    text2 = documents[documents[\"doc_id\"].astype(int) == int(id2)].squeeze()[\"content\"]\n",
    "\n",
    "    user_prompt = llm.format_user_prompt(prompts[\"user_prompt\"], text1=text1, text2=text2)\n",
    "    actual_result = llm.call_openai(system_prompt, user_prompt).contradictory_info_found\n",
    "\n",
    "    print(f\"-- {id1} & {id2} --\")\n",
    "    print(f\"expected result: {expected_result}\")\n",
    "    print(f\"actual result: {actual_result}\")\n",
    "    if expected_result == actual_result:\n",
    "        print(colored(\"Check!\", \"green\"))\n",
    "    else:\n",
    "        print(colored(\"Wrong!\", \"red\"))"
   ]
  },
  {
   "cell_type": "code",
   "execution_count": null,
   "id": "ab3f9971",
   "metadata": {},
   "outputs": [
    {
     "name": "stdout",
     "output_type": "stream",
     "text": [
      "<class 'numpy.int64'>\n"
     ]
    }
   ],
   "source": []
  }
 ],
 "metadata": {
  "kernelspec": {
   "display_name": "ma",
   "language": "python",
   "name": "python3"
  },
  "language_info": {
   "codemirror_mode": {
    "name": "ipython",
    "version": 3
   },
   "file_extension": ".py",
   "mimetype": "text/x-python",
   "name": "python",
   "nbconvert_exporter": "python",
   "pygments_lexer": "ipython3",
   "version": "3.12.9"
  }
 },
 "nbformat": 4,
 "nbformat_minor": 5
}
