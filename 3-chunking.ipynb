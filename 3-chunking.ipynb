{
 "cells": [
  {
   "cell_type": "code",
   "execution_count": 21,
   "id": "9fc88c05",
   "metadata": {},
   "outputs": [],
   "source": [
    "from importlib import reload\n",
    "import lancedb\n",
    "import pandas as pd\n",
    "from dotenv import load_dotenv\n",
    "\n",
    "load_dotenv(\"/Users/leon/.env\")\n",
    "\n",
    "# DB specifications\n",
    "LANCEDB_DIR = \"/Users/leon/Documents/study/MA/lancedb\"\n",
    "TABLE_NAME_DOCS = \"documents\"\n",
    "TABLE_NAME_CHUNKS = \"chunks\"\n",
    "\n",
    "db = lancedb.connect(LANCEDB_DIR)"
   ]
  },
  {
   "cell_type": "code",
   "execution_count": 10,
   "id": "8d334564",
   "metadata": {},
   "outputs": [],
   "source": [
    "def add_fictional_creation_date(row):\n",
    "    if str(row[\"doc_id\"]).startswith(\"400\"):\n",
    "        return pd.to_datetime(\"2010-01-01\")\n",
    "    if str(row[\"doc_id\"]).startswith(\"300\"):\n",
    "        return pd.to_datetime(\"2015-01-01\")\n",
    "    if str(row[\"doc_id\"]).startswith(\"100\"):\n",
    "        return pd.to_datetime(\"2005-01-01\")\n",
    "    return pd.to_datetime(\"2000-01-01\")"
   ]
  },
  {
   "cell_type": "code",
   "execution_count": 22,
   "id": "a90a7d74",
   "metadata": {},
   "outputs": [
    {
     "data": {
      "text/plain": [
       "pyarrow.Table\n",
       "doc_id: int64\n",
       "domain: string\n",
       "content: string\n",
       "embedding: list<item: double>\n",
       "  child 0, item: double\n",
       "creation_date: timestamp[ns]\n",
       "----\n",
       "doc_id: [[40]]\n",
       "domain: [[\"Finance\"]]\n",
       "content: [[\"Acme Government Solutions is a government industry company established on June 1, 2001 in Washington, D.C., specializing in providing comprehensive government services and solutions.\n",
       "In January 2021, Acme Government Solutions made a significant decision to distribute $5 million of dividends to its shareholders. This move not only enhanced shareholder returns but also showcased the company's commitment to rewarding its investors. This dividend distribution was a result of the company's successful acquisition of a major government contract worth $100 million in March 2021. This acquisition expanded Acme Government Solutions' service portfolio and increased its revenue potential. Furthermore, in April 2021, the company announced plans to establish regional offices in three new states, thereby expanding its presence and market reach. This strategic move allowed Acme Government Solutions to tap into new geographic markets, increasing its market share and potential customer base.\n",
       "In May 2021, Acme Government Solutions forged a strategic partnership with a leading technology firm. This partnership aimed to jointly develop innovative solutions for government agencies, providing Acme Government Solutions with access to advanced technology and expertise. This strategic collaboration also gave the company a competitive advantage in the market. Additionally, in June 2021, Acme Government Solutions successfully completed a high-profile project for a government client, showcasing its capabilities and establishing a reputation for excellence. This successful project delivery further enhanced the company's brand reputation and credibility in the industry.\n",
       "In February 2021, Acme Government Solutions completed the asset acquisition of Nationwide Security Services, with a total value of $20 million. This acquisition expanded the company's business scope and enhanced its market competitiveness. To support its expansion and development, the company conducted a large-scale financing activity in March 2021, raising $50 million of funds. This significant financial boost strengthened Acme Government Solutions' financial strength and provided the necessary resources for its growth plans.\n",
       "In May 2021, the company further expanded its market share by completing the acquisition of 51% equity of Government IT Solutions. This acquisition not only increased Acme Government Solutions' control but also broadened its business areas, enhancing its profitability. Moreover, in June 2021, the company invested $30 million in the Modernizing Public Infrastructure project. This strategic investment allowed Acme Government Solutions to diversify its business areas and further capitalize on emerging opportunities.\n",
       "To optimize its capital structure, Acme Government Solutions underwent debt restructuring in August 2021, reducing its liabilities by $15 million. This move improved the company's financial condition and reduced its financial costs. In September 2021, the company underwent an asset restructuring, optimizing its business structure. This restructuring initiative aimed to improve operational efficiency and increase the company's overall value.\n",
       "These significant events have had a direct impact on Acme Government Solutions' financial indicators. The company's operating income reached $100 million, driven by increased market demand and changes in product prices. This strong operating income contributed to a net profit of $20 million, reflecting effective cost control measures and non-recurring gains and losses. Acme Government Solutions' total assets stood at $500 million, primarily influenced by asset acquisitions, disposals, and revaluations. The company's total liabilities amounted to $200 million, influenced by new debt issuances, debt repayments, and debt restructuring activities.\n",
       "Shareholder equity, on the other hand, reached $300 million, driven by the company's net profit, dividend distributions, and capital reserves. Acme Government Solutions' cash flow amounted to $50 million, reflecting the company's efficient management of operating, investment, and financing activities. The company's debt ratio stood at 0.4, indicating a moderate level of debt, while the debt to assets ratio was 40%, highlighting the company's financial leverage. Finally, the return on equity was 6.67%, reflecting the operational efficiency of shareholder equity.\n",
       "Looking ahead, Acme Government Solutions has outlined its future outlook. The company plans to implement various cost control measures to improve profitability and optimize capital operations to ensure efficient resource utilization. Additionally, Acme Government Solutions intends to invest heavily in research and development to introduce innovative solutions for public services. The company also aims to expand its presence in emerging markets through strategic partnerships. To mitigate financial risks, Acme Government Solutions has implemented robust risk management strategies, considering factors such as changes in government policies, economic downturns, and cybersecurity threats. These strategies ensure the company's business continuity and long-term success in the government industry.\n",
       "The purpose of this Corporate Governance Report is to provide an in-depth overview of Acme Government Solutions' governance structure and practices, highlighting significant events and indicators that have impacted corporate governance. Additionally, this report will discuss the company's efforts to enhance transparency, accountability, and stakeholder engagement.\n",
       "One of the key events that had a significant impact on Acme Government Solutions' governance structure and operational strategies was the Shareholders' Meeting Resolution held in February 2021. This resolution resulted in several sub-events that shaped the company's direction and decision-making process. Firstly, the Board of Directors Election took place, leading to changes in the governance structure and operational strategies. The election of new board members brought fresh perspectives and expertise to the company's leadership.\n",
       "Another sub-event following the Shareholders' Meeting Resolution was the appointment of a new CEO in March 2021. This change in leadership had a profound impact on the company's direction and decision-making process. The new CEO brought a strategic vision and implemented changes to improve operational efficiency and effectiveness.\n",
       "In April 2021, Acme Government Solutions conducted a Financial Performance Review, which had a direct impact on the company's financial health and identified areas for improvement. The review provided valuable insights into the company's financial performance, allowing for strategic adjustments to enhance profitability and sustainability.\n",
       "Furthermore, in May 2021, Acme Government Solutions announced a Strategic Partnership, which expanded the company's capabilities and market reach. This partnership opened doors to new opportunities and positioned the company for growth in a competitive market.\n",
       "In June 2021, Acme Government Solutions unveiled a New Market Expansion Plan, which aimed to diversify revenue streams and expand the client base. This initiative demonstrated the company's commitment to adapt to changing market dynamics and seize new business opportunities.\n",
       "Compliance and regulatory updates in March 2021 also played a crucial role in Acme Government Solutions' corporate governance. These updates ensured the company's adherence to laws and regulations, reinforcing its commitment to ethical practices and transparency.\n",
       "In April 2021, a change in the Board of Directors further shaped the company's strategic direction and long-term development. The new board members brought diverse expertise and perspectives, contributing to effective decision-making and governance.\n",
       "May 2021 witnessed senior management changes within Acme Government Solutions, which had a direct impact on the company's operational focus and strategic priorities. These changes aimed to align the management team with the company's vision and goals, enhancing overall performance.\n",
       "Acme Government Solutions also made significant progress in sustainability and social responsibility initiatives in June 2021. The company's commitment to environmental protection, social responsibility, and corporate citizenship positively impacted its public image and market competitiveness.\n",
       "These events and indicators are closely tied to Acme Government Solutions' governance structure and practices. The company's commitment to information disclosure, related transactions, and internal control has been instrumental in ensuring transparency, fairness, and accountability.\n",
       "Acme Government Solutions has prioritized regular and timely information disclosure, providing stakeholders with the necessary information to make informed decisions. This commitment to transparency and accountability has strengthened the company's relationships with shareholders and other stakeholders.\n",
       "Furthermore, Acme Government Solutions has implemented policies, procedures, and measures to prevent conflicts of interest and ensure fairness in related transactions. This strict compliance with ethical standards has fostered trust and confidence among stakeholders.\n",
       "The company has also established a robust internal control system, safeguarding its assets and preventing financial misstatements. The architecture, implementation, and effectiveness of this system have been continuously assessed to ensure its reliability and efficiency.\n",
       "To further enhance corporate governance, Acme Government Solutions has outlined governance improvement plans. These plans include strengthening the function of the Board of Directors and Supervisory Board, enhancing transparency and the quality of information disclosure, and establishing an Ethics Committee. These initiatives aim to improve governance efficiency, promote ethical standards, and ensure the company's long-term success.\n",
       "In terms of risk management strategy, Acme Government Solutions has focused on strengthening its internal control system, integrating sustainable development and social responsibility into its strategy, and enhancing cybersecurity measures. These efforts aim to identify, assess, monitor, and report risks effectively, while also addressing emerging challenges in the digital landscape.\n",
       "In conclusion, Acme Government Solutions has demonstrated a strong commitment to corporate governance, with a clear focus on transparency, accountability, and stakeholder engagement. The significant events and indicators discussed in this report have shaped the company's governance structure, operational strategies, and long-term development. Through continuous improvement and a proactive approach to risk management, Acme Government Solutions is well-positioned for future success in the government services industry.\"]]\n",
       "embedding: [[[0.035415836,0.015197343,0.08163272,0.029992994,0.022003789,...,0.017852973,0.010220827,-0.017730234,0.01715001,-0.002576128]]]\n",
       "creation_date: [[2000-01-01 00:00:00.000000000]]"
      ]
     },
     "execution_count": 22,
     "metadata": {},
     "output_type": "execute_result"
    }
   ],
   "source": [
    "from utils import io_helpers\n",
    "\n",
    "reload(io_helpers)\n",
    "\n",
    "documents = io_helpers.get_documents(read_embeddings=True).drop(columns=\"original_doc_ids\")\n",
    "documents[\"creation_date\"] = documents.apply(add_fictional_creation_date, axis=1)\n",
    "\n",
    "table = db.create_table(TABLE_NAME_DOCS, data=documents, exist_ok=True)\n",
    "db[TABLE_NAME_DOCS].head(1)"
   ]
  },
  {
   "cell_type": "code",
   "execution_count": 23,
   "id": "0eaf72ef",
   "metadata": {},
   "outputs": [],
   "source": [
    "from langchain_community.document_loaders import DataFrameLoader\n",
    "\n",
    "table_data: pd.DataFrame = table.search().to_pandas()\n",
    "\n",
    "loader = DataFrameLoader(table_data, page_content_column=\"content\")\n",
    "lc_documents = loader.load()"
   ]
  },
  {
   "cell_type": "code",
   "execution_count": 30,
   "id": "60ed7b72",
   "metadata": {},
   "outputs": [
    {
     "name": "stdout",
     "output_type": "stream",
     "text": [
      "1727\n"
     ]
    },
    {
     "data": {
      "text/plain": [
       "[Document(metadata={'doc_id': 400059, 'domain': 'Finance', 'embedding': array([ 0.03652241,  0.02207698,  0.02154485, ..., -0.00806634,\n",
       "         0.03737901,  0.01314106]), 'creation_date': Timestamp('2010-01-01 00:00:00')}, page_content=\"In April 2020, Retail Emporium underwent a noteworthy asset restructuring, enhancing operational efficiency and company value. This was followed by the acquisition of a 40% stake in Fancy Apparel Company in May, augmenting market share and control. July saw the acquisition of HomeGoods Corporation’s assets at a total value of $100 million, broadening business scope and competitiveness. In August, a crucial debt restructuring reduced liabilities by $50 million, and a large-scale financing activity in September raised $200 million, fortifying financial strength for expansion.\\n\\nThe company's financial indicators for 2020 were strong, with an operating income of $550 million and a net profit of $50 million, driven by various strategic moves and operational efficiencies. Total assets were valued at $1 billion, with liabilities at $700 million, reflecting the company's robust financial standing and strategic debt management. Shareholder equity stood at $300 million, and cash flow was positive at $100 million.\"),\n",
       " Document(metadata={'doc_id': 300001, 'domain': 'Finance', 'embedding': array([-0.00424003, -0.00792568,  0.01872595, ..., -0.02828056,\n",
       "         0.02874597,  0.02485842]), 'creation_date': Timestamp('2015-01-01 00:00:00')}, page_content='Changes that occurred in senior management of JetWing Aviation in October 2021 | Restructuring of senior management roles.\\nPerson who resigned from the board of directors of CleanCo Housekeeping Services in November 2018 | Mr. John Smith\\nAmount by which EduCorp reduced its liabilities during the debt restructuring in March 2020 | $8 million\\nMonth and year when Retail Emporium was established | March 2006\\nPercentage of equity acquired by Buildcorp Holdings in A&B Construction | 40%\\nPerson added to the Board of Directors of ABC Education Corporation in August 2021 | Ms. Jane Doe\\nCompany acquired by MediaCorp in April 2018 | Creative Studios\\nPercentage of SunPower Corp acquired by Energen Solutions Ltd in June 2019 | 45%\\nSignificant corporate event completed by InnovateTech, Inc. in November 2019 | Merger with TechFusion Ltd.\\nMonth, in which Elevate Retail Inc. invested in renewable energy projects | August 2021'),\n",
       " Document(metadata={'doc_id': 300002, 'domain': 'Law', 'embedding': array([-0.00149718,  0.01598887,  0.02361281, ..., -0.03246226,\n",
       "         0.03038172,  0.00259712]), 'creation_date': Timestamp('2015-01-01 00:00:00')}, page_content='Chief judge according to the court judgment of Danbury, Pinehurst, Court | J. Smith\\nResidence of F. Williams according to the court judgment of Upton, Georgetown, Court | 45, Maple Avenue, Georgetown.\\nDefense lawyer for Y. Nelson according to the judgment of Glenwood, Quailwood, Court | J. Smith\\nDate of the court judgment of Bayside, Roseville, Court | 15th November, 2022\\nName of the chief judge according to the court judgment of Trenton, Eastwood, Court | J. Smith\\nLocation where J. Hall had a heated argument with R. Johnson according to the judgment of Urbana, Belmont, Court | Central Park\\nSentence for H. Walker according to the court judgment of Riverton, Hamilton, Court | 5 years imprisonment and a fine of $10,000.\\nFine imposed on Z. Torres according to the court judgment of Sterling, Quarryville, Court | $150,000\\nDate of the court judgment of Hartford, Ashland, Court | 20th September 2022\\nChief judge according to the court judgment of Hamilton, Harrison, Court | J. Smith'),\n",
       " Document(metadata={'doc_id': 300003, 'domain': 'Medical', 'embedding': array([-0.00392729, -0.01722293,  0.00831156, ...,  0.02242123,\n",
       "         0.00620868,  0.00733331]), 'creation_date': Timestamp('2015-01-01 00:00:00')}, page_content='Past disease history of Y. Evans according to the hospitalization records of Parker General Hospital | Diabetes diagnosed 3 years ago, managed with lifestyle changes.\\nAge of J. Brooks according to the hospitalization records of Farmington General Hospital | 62\\nChief complaint of K. Mendoza according to the hospitalization records of Southport General Hospital | Severe headaches and dizziness for 3 months.\\nInitial diagnosis of H. Flores according to the hospitalization records of Wilton General Hospital | Viral Encephalitis\\nDuration for which V. Lewis has had hypertension according to the hospitalization records of Newport General Hospital | 15 years\\nEthnicity of S. Moore according to the hospitalization records of Knoxville City Hospital | Hispanic\\nOccupation of E. Chavez according to the hospitalization records of Kingsport Medical Center | Engineer\\nTemperature of G. Gonzalez during the physical examination according to the hospitalization records of Oxford General Hospital | 38.2°C'),\n",
       " Document(metadata={'doc_id': 300003, 'domain': 'Medical', 'embedding': array([-0.00392729, -0.01722293,  0.00831156, ...,  0.02242123,\n",
       "         0.00620868,  0.00733331]), 'creation_date': Timestamp('2015-01-01 00:00:00')}, page_content='Chief complaint of J. Reyes according to the hospitalization records of Bridgewater General Hospital | Severe headaches and dizziness for 3 months.\\nAdmission time for X. Price according to the hospitalization records of Tremont City Hospital | 15th, February')]"
      ]
     },
     "execution_count": 30,
     "metadata": {},
     "output_type": "execute_result"
    }
   ],
   "source": [
    "from langchain_text_splitters import RecursiveCharacterTextSplitter\n",
    "\n",
    "lc_chunks = RecursiveCharacterTextSplitter(\n",
    "    [\"\\n\\n\", \"\\n\", \" \", \"\"], keep_separator=False, chunk_size=1024, chunk_overlap=128\n",
    ").split_documents(lc_documents)\n",
    "\n",
    "print(len(lc_chunks))\n",
    "lc_chunks[-5:]"
   ]
  },
  {
   "cell_type": "code",
   "execution_count": null,
   "id": "3ff877e8",
   "metadata": {},
   "outputs": [],
   "source": [
    "from langchain.vectorstores import LanceDB\n",
    "from langchain_openai import OpenAIEmbeddings\n",
    "\n",
    "embeddings = OpenAIEmbeddings(model=\"text-embedding-3-small\")"
   ]
  },
  {
   "cell_type": "code",
   "execution_count": null,
   "id": "6eab8c84",
   "metadata": {},
   "outputs": [],
   "source": [
    "from lancedb.embeddings import get_registry\n",
    "from lancedb.pydantic import LanceModel, Vector\n",
    "\n",
    "from tenacity import (\n",
    "    retry,\n",
    "    wait_random_exponential,\n",
    "    retry_if_exception_type,\n",
    "    stop_after_attempt,\n",
    ")"
   ]
  }
 ],
 "metadata": {
  "kernelspec": {
   "display_name": "ma",
   "language": "python",
   "name": "python3"
  },
  "language_info": {
   "codemirror_mode": {
    "name": "ipython",
    "version": 3
   },
   "file_extension": ".py",
   "mimetype": "text/x-python",
   "name": "python",
   "nbconvert_exporter": "python",
   "pygments_lexer": "ipython3",
   "version": "3.12.9"
  }
 },
 "nbformat": 4,
 "nbformat_minor": 5
}
