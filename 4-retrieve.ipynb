{
 "cells": [
  {
   "cell_type": "code",
   "execution_count": 7,
   "id": "7815f7af",
   "metadata": {},
   "outputs": [],
   "source": [
    "import lancedb\n",
    "import importlib\n",
    "from langchain.vectorstores import LanceDB\n",
    "from langchain.embeddings import OpenAIEmbeddings\n",
    "\n",
    "# DB specifications\n",
    "LANCEDB_DIR = \"/Users/leon/Documents/study/MA/lancedb\"\n",
    "TABLE_NAME_DOCS = \"documents\"\n",
    "TABLE_NAME_CHUNKS = \"chunks\"\n",
    "\n",
    "db = lancedb.connect(LANCEDB_DIR)"
   ]
  },
  {
   "cell_type": "code",
   "execution_count": 2,
   "id": "b6f8e973",
   "metadata": {},
   "outputs": [
    {
     "name": "stderr",
     "output_type": "stream",
     "text": [
      "/var/folders/ll/qhsvkwd97tsbm3310qw2zl2w0000gn/T/ipykernel_30170/2558687755.py:1: LangChainDeprecationWarning: The class `OpenAIEmbeddings` was deprecated in LangChain 0.0.9 and will be removed in 1.0. An updated version of the class exists in the :class:`~langchain-openai package and should be used instead. To use it run `pip install -U :class:`~langchain-openai` and import as `from :class:`~langchain_openai import OpenAIEmbeddings``.\n",
      "  embeddings = OpenAIEmbeddings(model=\"text-embedding-3-small\")\n"
     ]
    }
   ],
   "source": [
    "embeddings = OpenAIEmbeddings(model=\"text-embedding-3-small\")\n",
    "vector_store = LanceDB(uri=LANCEDB_DIR, embedding=embeddings, table=db.open_table(TABLE_NAME_CHUNKS))"
   ]
  },
  {
   "cell_type": "code",
   "execution_count": 6,
   "id": "74c8deb1",
   "metadata": {},
   "outputs": [],
   "source": [
    "def retrieve(query: str, k=5):\n",
    "    retrieved_docs = vector_store.similarity_search(query, k=k)\n",
    "    return retrieved_docs"
   ]
  },
  {
   "cell_type": "code",
   "execution_count": 26,
   "id": "89c63d7f",
   "metadata": {},
   "outputs": [],
   "source": [
    "from typing import List\n",
    "from utils import llm\n",
    "\n",
    "importlib.reload(llm)\n",
    "\n",
    "\n",
    "def generate(query: str, context: List):\n",
    "    docs_content = \"\\n\\n\".join(doc.page_content for doc in context)\n",
    "    system_prompt = \"You are an expert in question answering from a given context.\"\n",
    "    user_prompt = f\"Answer the given question as short as possible based on the context, which has been retrieved by similarity search from a knowledge base.\\nContext:\\n{docs_content}\\n\\nQuestion: {query}\"\n",
    "    model = \"gpt-4.1\"\n",
    "\n",
    "    return llm.call_openai(system_prompt, user_prompt, model, response_format_pydantic=llm.LLMQAResponse)"
   ]
  },
  {
   "cell_type": "code",
   "execution_count": 34,
   "id": "27c7fb4b",
   "metadata": {},
   "outputs": [
    {
     "name": "stdout",
     "output_type": "stream",
     "text": [
      "Widowed\n"
     ]
    }
   ],
   "source": [
    "query = \"According to the hospitalization records of Knoxville City Hospital, what is S. Moore's marital status?\"\n",
    "\n",
    "context = retrieve(query)\n",
    "response = generate(query, context)\n",
    "\n",
    "print(response.answer)"
   ]
  },
  {
   "cell_type": "code",
   "execution_count": 32,
   "id": "497a606c",
   "metadata": {},
   "outputs": [
    {
     "name": "stdout",
     "output_type": "stream",
     "text": [
      "page_content='Hospitalization Record\n",
      "\n",
      "Basic Information:\n",
      "Name: S. Moore\n",
      "Gender: Female\n",
      "Age: 74\n",
      "Ethnicity: Caucasian\n",
      "Marital Status: Married\n",
      "Occupation: Retired\n",
      "Address: 60, Newport Street, Knoxville\n",
      "Admission Time: 11th January\n",
      "Record Time: 11th January 14:00\n",
      "Historian: Self\n",
      "Hospital Name: Knoxville City Hospital\n",
      "\n",
      "Chief Complaint:\n",
      "Intermittent wheezing, coughing, and shortness of breath for 2 weeks' metadata={'chunk_id': 1512, 'creation_date': datetime.datetime(2005, 1, 1, 0, 0), 'doc_id': 100209, 'domain': 'Medical', 'outdated_by_chunk_ids': [1725]}\n",
      "\n",
      "page_content='Hospitalization Record\n",
      "\n",
      "Basic Information:\n",
      "Name: S. Moore\n",
      "Gender: Female\n",
      "Age: 74\n",
      "Ethnicity: Caucasian\n",
      "Marital Status: Widowed\n",
      "Occupation: Retired\n",
      "Address: 60, Newport Street, Knoxville\n",
      "Admission Time: 11th January\n",
      "Record Time: 11th January 14:00\n",
      "Historian: Self\n",
      "Hospital Name: Knoxville City Hospital\n",
      "\n",
      "Chief Complaint:\n",
      "Intermittent wheezing, coughing, and shortness of breath for 2 weeks' metadata={'chunk_id': 1230, 'creation_date': datetime.datetime(2000, 1, 1, 0, 0), 'doc_id': 209, 'domain': 'Medical', 'outdated_by_chunk_ids': [1725]}\n",
      "\n",
      "page_content='Moore's general health is stable, with his hypertension managed by medication, and no significant changes in his systemic condition observed since admission. His family has a history of hypertension, though no severe infectious or chronic diseases have been documented. Regular monitoring and additional diagnostic tests, including a pending skin biopsy, are underway to fine-tune his treatment plan.\n",
      "\n",
      "K. Moore's case underscores the need for thorough evaluation in dermatological diagnoses, especially in elderly patients, and highlights the hospital's commitment to detailed patient care and management.' metadata={'chunk_id': 1666, 'creation_date': datetime.datetime(2010, 1, 1, 0, 0), 'doc_id': 400183, 'domain': 'Medical', 'outdated_by_chunk_ids': []}\n",
      "\n",
      "page_content='Hospitalization Record\n",
      "\n",
      "Basic Information:\n",
      "Name: L. Rogers\n",
      "Gender: Female\n",
      "Age: 56\n",
      "Ethnicity: Caucasian\n",
      "Marital Status: Married\n",
      "Occupation: Teacher\n",
      "Address: 89, Greenfield street, Knoxville\n",
      "Admission Time: 6th, January\n",
      "Record Time: 6th, January\n",
      "Historian: Dr. James Nelson\n",
      "Hospital Name: Knoxville General Hospital\n",
      "\n",
      "Chief Complaint:\n",
      "Blurry, foggy vision and decreased visual acuity for the past 3 months' metadata={'chunk_id': 1084, 'creation_date': datetime.datetime(2000, 1, 1, 0, 0), 'doc_id': 192, 'domain': 'Medical', 'outdated_by_chunk_ids': [1669]}\n",
      "\n",
      "page_content='Hospitalization Record:\n",
      "\n",
      "Basic Information:\n",
      "Name: K. Moore\n",
      "Gender: Male\n",
      "Age: 85\n",
      "Ethnicity: Caucasian\n",
      "Marital Status: Widowed\n",
      "Occupation: Retired\n",
      "Address: 27, Milton Street, Upton\n",
      "Admission Time: 10th February\n",
      "Record Time: 10th February\n",
      "Historian: Self\n",
      "Hospital Name: Upton General Hospital\n",
      "\n",
      "Chief Complaint:\n",
      "Itchy skin rashes for 2 weeks\n",
      "\n",
      "Present Illness:\n",
      "Onset:\n",
      "Started suddenly 2 weeks ago at home, no obvious prodrome, possible trigger unknown\n",
      "\n",
      "Main Symptoms:\n",
      "Red, itchy skin rashes on wrists, forearms, and neck; papules and occasional blisters; symptoms worsen with scratching and slightly improve with topical creams\n",
      "\n",
      "Accompanying Symptoms:\n",
      "Mild swelling and lichenification in areas of persistent scratching, no fever or systemic symptoms\n",
      "\n",
      "Diagnosis and Treatment History:\n",
      "Applied over-the-counter hydrocortisone cream with partial relief, no prior consultation before admission' metadata={'chunk_id': 1004, 'creation_date': datetime.datetime(2000, 1, 1, 0, 0), 'doc_id': 183, 'domain': 'Medical', 'outdated_by_chunk_ids': [1664]}\n",
      "\n"
     ]
    }
   ],
   "source": [
    "for doc in context:\n",
    "    print(doc)\n",
    "    print()"
   ]
  }
 ],
 "metadata": {
  "kernelspec": {
   "display_name": "ma",
   "language": "python",
   "name": "python3"
  },
  "language_info": {
   "codemirror_mode": {
    "name": "ipython",
    "version": 3
   },
   "file_extension": ".py",
   "mimetype": "text/x-python",
   "name": "python",
   "nbconvert_exporter": "python",
   "pygments_lexer": "ipython3",
   "version": "3.12.9"
  }
 },
 "nbformat": 4,
 "nbformat_minor": 5
}
