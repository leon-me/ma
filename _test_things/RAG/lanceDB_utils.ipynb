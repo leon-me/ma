{
 "cells": [
  {
   "cell_type": "code",
   "execution_count": 2,
   "id": "4b71ed21",
   "metadata": {},
   "outputs": [],
   "source": [
    "import lancedb\n",
    "\n",
    "# LANCEDB_DIR = \"../data/lancedb\"\n",
    "LANCEDB_DIR = \"/Users/leon/Documents/study/MA/lancedb\"\n",
    "\n",
    "# TABLE_NAME = \"climatepolicyradar\"\n",
    "TABLE_NAME = \"climatepolicyradar_laws_eur_en\"\n",
    "\n",
    "db = lancedb.connect(LANCEDB_DIR)\n",
    "\n",
    "table = db.open_table(TABLE_NAME)\n",
    "\n",
    "result = table.search().limit(20)\n",
    "\n",
    "df = result.to_pandas()"
   ]
  }
 ],
 "metadata": {
  "kernelspec": {
   "display_name": "ma",
   "language": "python",
   "name": "python3"
  },
  "language_info": {
   "codemirror_mode": {
    "name": "ipython",
    "version": 3
   },
   "file_extension": ".py",
   "mimetype": "text/x-python",
   "name": "python",
   "nbconvert_exporter": "python",
   "pygments_lexer": "ipython3",
   "version": "3.12.9"
  }
 },
 "nbformat": 4,
 "nbformat_minor": 5
}
