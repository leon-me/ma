{
 "cells": [
  {
   "cell_type": "code",
   "execution_count": 24,
   "id": "f496088e",
   "metadata": {},
   "outputs": [],
   "source": [
    "from openai import OpenAI\n",
    "client = OpenAI()\n",
    "\n",
    "def get_embedding(text, model=\"text-embedding-3-small\"):\n",
    "    text = text.replace(\"\\n\", \" \")\n",
    "    return client.embeddings.create(input = [text], model=model).data[0].embedding\n",
    "\n",
    "\n",
    "from IPython.display import display, HTML\n",
    "\n",
    "def pretty_print(text):\n",
    "    display(HTML(f'<div style=\"white-space: pre-wrap; word-wrap: break-word;\">{text}</div>'))\n",
    "\n"
   ]
  },
  {
   "cell_type": "code",
   "execution_count": 25,
   "id": "1157059c",
   "metadata": {},
   "outputs": [
    {
     "data": {
      "text/html": [
       "<div style=\"white-space: pre-wrap; word-wrap: break-word;\">- result 1 ({'filename': 'EUR0020.txt', 'title': None})-\n",
       "'(26) In its conclusions of 9 March 2012, the Council acknowledged the particularities of richly forested countries. Those particularities especially concern the limited possibilities of balancing emissions with removals. Given that it is the most richly forested Member State and taking into account its particular geographical characteristics, Finland faces particular difficulties in this respect. Therefore, Finland should be granted limited additional compensation.'\n",
       "</div>"
      ],
      "text/plain": [
       "<IPython.core.display.HTML object>"
      ]
     },
     "metadata": {},
     "output_type": "display_data"
    },
    {
     "data": {
      "text/html": [
       "<div style=\"white-space: pre-wrap; word-wrap: break-word;\">- result 2 ({'filename': 'EUR0020.txt', 'title': None})-\n",
       "'(6) 'forest' means an area of land defined by the minimum values for area size, tree crown cover or an equivalent stocking level, and potential tree height at maturity at the place of growth of the trees as specified for each Member State in Annex II. It includes areas with trees, including groups of growing, young, natural trees, or plantations that have yet to reach the minimum values for tree crown cover or an equivalent stocking level or minimum tree height as specified in Annex II, including any area'\n",
       "</div>"
      ],
      "text/plain": [
       "<IPython.core.display.HTML object>"
      ]
     },
     "metadata": {},
     "output_type": "display_data"
    },
    {
     "data": {
      "text/html": [
       "<div style=\"white-space: pre-wrap; word-wrap: break-word;\">- result 3 ({'filename': 'EUR0037.txt', 'title': None})-\n",
       "'(9) As regards the situation of forests within the Union, the State of Europe’s Forests 2020 report states that, between 1990 and 2020, the area of forests in Europe has increased by 9 %, carbon stored in the biomass has grown by 50 % and wood supply has risen by 40 %. Primary and naturally regenerating forests are at risk, inter alia, from intensive management, and their unique biodiversity and structural features are in danger. Furthermore, the European Environment Agency has noted that less than 5 % of'\n",
       "</div>"
      ],
      "text/plain": [
       "<IPython.core.display.HTML object>"
      ]
     },
     "metadata": {},
     "output_type": "display_data"
    },
    {
     "data": {
      "text/html": [
       "<div style=\"white-space: pre-wrap; word-wrap: break-word;\">- result 4 ({'filename': 'EUR0020.txt', 'title': None})-\n",
       "'(25) Member States with very high forest coverage compared to the Union average, and in particular smaller Member States with very high forest coverage, are more dependent than other Member States on managed forest land to balance emissions in other land accounting categories and would therefore be affected to a higher degree and would have a limited potential to increase their forest coverage. The compensation factor should, therefore, be increased on the basis of forest coverage and land area so that'\n",
       "</div>"
      ],
      "text/plain": [
       "<IPython.core.display.HTML object>"
      ]
     },
     "metadata": {},
     "output_type": "display_data"
    },
    {
     "data": {
      "text/html": [
       "<div style=\"white-space: pre-wrap; word-wrap: break-word;\">- result 5 ({'filename': 'EUR0073.txt', 'title': None})-\n",
       "'is among the best in the world, and over 18 % of the Union's territory and 4 % of its seas have been designated as protected areas for nature.'\n",
       "</div>"
      ],
      "text/plain": [
       "<IPython.core.display.HTML object>"
      ]
     },
     "metadata": {},
     "output_type": "display_data"
    },
    {
     "data": {
      "text/html": [
       "<div style=\"white-space: pre-wrap; word-wrap: break-word;\">- result 6 ({'filename': 'EUR0007.txt', 'title': None})-\n",
       "'Finland included in its strategy submitted in accordance with Article 15 of Regulation (EU) 2018/1999 ongoing or planned specific measures to ensure the conservation or enhancement, as appropriate, of forest sinks and reservoirs;\n",
       "(b) total emissions within the Union do not exceed total removals in the land accounting categories referred to in Article 2(1) of this Regulation in the period from 2021 to 2025.'\n",
       "</div>"
      ],
      "text/plain": [
       "<IPython.core.display.HTML object>"
      ]
     },
     "metadata": {},
     "output_type": "display_data"
    },
    {
     "data": {
      "text/html": [
       "<div style=\"white-space: pre-wrap; word-wrap: break-word;\">- result 7 ({'filename': 'EUR0062.txt', 'title': None})-\n",
       "'Finland included in its strategy submitted in accordance with Article 15 of Regulation (EU) 2018/1999 ongoing or planned specific measures to ensure the conservation or enhancement, as appropriate, of forest sinks and reservoirs;\n",
       "(b) total emissions within the Union do not exceed total removals in the land accounting categories referred to in Article 2(1) of this Regulation in the period from 2021 to 2025.'\n",
       "</div>"
      ],
      "text/plain": [
       "<IPython.core.display.HTML object>"
      ]
     },
     "metadata": {},
     "output_type": "display_data"
    },
    {
     "data": {
      "text/html": [
       "<div style=\"white-space: pre-wrap; word-wrap: break-word;\">- result 8 ({'filename': 'EUR0060.txt', 'title': None})-\n",
       "'(97) Forests should be considered to be biodiverse in accordance with the sustainability criteria where they are primary forests in accordance with the definition used by the Food and Agriculture Organisation of the United Nations (FAO) in its Global Forest Resource Assessment, or where they are protected by national nature protection law. Areas where the collection of non-wood forest products occurs should be considered to be biodiverse forests, provided that the human impact is small. Other types of'\n",
       "</div>"
      ],
      "text/plain": [
       "<IPython.core.display.HTML object>"
      ]
     },
     "metadata": {},
     "output_type": "display_data"
    },
    {
     "data": {
      "text/html": [
       "<div style=\"white-space: pre-wrap; word-wrap: break-word;\">- result 9 ({'filename': 'EUR0098.txt', 'title': None})-\n",
       "'Resolution H1 General Guidelines for the Sustainable Management of Forests in Europe Second Ministerial Conference on the Protection of Forests in Europe (Forest Europe), 16-17 June 1993, Helsinki/Finland (version of 4.6.2021: https://www.foresteurope.org/docs/MC/MC_helsinki_resolutionH1.pdf.'\n",
       "</div>"
      ],
      "text/plain": [
       "<IPython.core.display.HTML object>"
      ]
     },
     "metadata": {},
     "output_type": "display_data"
    },
    {
     "data": {
      "text/html": [
       "<div style=\"white-space: pre-wrap; word-wrap: break-word;\">- result 10 ({'filename': 'EUR0098.txt', 'title': None})-\n",
       "'Resolution H1 General Guidelines for the Sustainable Management of Forests in Europe Second Ministerial Conference on the Protection of Forests in Europe (Forest Europe), 16-17 June 1993, Helsinki/Finland (version of 4.6.2021: https://www.foresteurope.org/docs/MC/MC_helsinki_resolutionH1.pdf).'\n",
       "</div>"
      ],
      "text/plain": [
       "<IPython.core.display.HTML object>"
      ]
     },
     "metadata": {},
     "output_type": "display_data"
    },
    {
     "data": {
      "text/html": [
       "<div style=\"white-space: pre-wrap; word-wrap: break-word;\">- result 11 ({'filename': 'EUR0098.txt', 'title': None})-\n",
       "'Resolution H1 General Guidelines for the Sustainable Management of Forests in Europe Second Ministerial Conference on the Protection of Forests in Europe (Forest Europe), 16-17 June 1993, Helsinki/Finland (version of 4.6.2021: https://www.foresteurope.org/docs/MC/MC_helsinki_resolutionH1.pdf).'\n",
       "</div>"
      ],
      "text/plain": [
       "<IPython.core.display.HTML object>"
      ]
     },
     "metadata": {},
     "output_type": "display_data"
    },
    {
     "data": {
      "text/html": [
       "<div style=\"white-space: pre-wrap; word-wrap: break-word;\">- result 12 ({'filename': 'EUR0032.txt', 'title': None})-\n",
       "'Forests in Europe of 16–17 June 1993 in Helsinki on General Guidelines for the Sustainable Management of Forests in Europe as well as by taking into account Regulations (EU) No 995/2010 and (EU) 2018/841 (46) of the European Parliament and of the Council and Directive (EU) 2018/2001 of the European Parliament and of the Council (47) and the communication of the Commission of 20 September 2013 on ‘A new EU Forest Strategy: for forests and the forest-based sector’.'\n",
       "</div>"
      ],
      "text/plain": [
       "<IPython.core.display.HTML object>"
      ]
     },
     "metadata": {},
     "output_type": "display_data"
    },
    {
     "data": {
      "text/html": [
       "<div style=\"white-space: pre-wrap; word-wrap: break-word;\">- result 13 ({'filename': 'EUR0009.txt', 'title': None})-\n",
       "'Forests in Europe of 16–17 June 1993 in Helsinki on General Guidelines for the Sustainable Management of Forests in Europe as well as by taking into account Regulations (EU) No 995/2010 and (EU) 2018/841 (46) of the European Parliament and of the Council and Directive (EU) 2018/2001 of the European Parliament and of the Council (47) and the communication of the Commission of 20 September 2013 on ‘A new EU Forest Strategy: for forests and the forest-based sector’.'\n",
       "</div>"
      ],
      "text/plain": [
       "<IPython.core.display.HTML object>"
      ]
     },
     "metadata": {},
     "output_type": "display_data"
    },
    {
     "data": {
      "text/html": [
       "<div style=\"white-space: pre-wrap; word-wrap: break-word;\">- result 14 ({'filename': 'EUR0062.txt', 'title': None})-\n",
       "'(20) In Europe, National Forest Inventories are used to provide information for forest ecosystem service assessments. The forest inventory monitoring system differs from country to country, as each country has its own forest inventory system with its own methodology. The New EU Forest Strategy for 2030 stressed the need for strategic forest planning in all Member States, based on reliable monitoring and data, transparent governance and coordinated exchange at Union level. To that end, the Commission has'\n",
       "</div>"
      ],
      "text/plain": [
       "<IPython.core.display.HTML object>"
      ]
     },
     "metadata": {},
     "output_type": "display_data"
    },
    {
     "data": {
      "text/html": [
       "<div style=\"white-space: pre-wrap; word-wrap: break-word;\">- result 15 ({'filename': 'EUR0007.txt', 'title': None})-\n",
       "'(20) In Europe, National Forest Inventories are used to provide information for forest ecosystem service assessments. The forest inventory monitoring system differs from country to country, as each country has its own forest inventory system with its own methodology. The New EU Forest Strategy for 2030 stressed the need for strategic forest planning in all Member States, based on reliable monitoring and data, transparent governance and coordinated exchange at Union level. To that end, the Commission has'\n",
       "</div>"
      ],
      "text/plain": [
       "<IPython.core.display.HTML object>"
      ]
     },
     "metadata": {},
     "output_type": "display_data"
    },
    {
     "data": {
      "text/html": [
       "<div style=\"white-space: pre-wrap; word-wrap: break-word;\">- result 16 ({'filename': 'EUR0004.txt', 'title': None})-\n",
       "'the Food and Agri- culture Organisation of the United Nations (FAO) in its Global Forest Resource Assessment, which countries use worldwide to report on the extent of primary forest or where it is protected by national nature protection law. Areas where collection of non-wood forest products occurs should be included, provided the human impact is small. Other types of forests as defined by the FAO, such as modi- fied natural forests, semi-natural forests and plantations, should not be considered as primary'\n",
       "</div>"
      ],
      "text/plain": [
       "<IPython.core.display.HTML object>"
      ]
     },
     "metadata": {},
     "output_type": "display_data"
    },
    {
     "data": {
      "text/html": [
       "<div style=\"white-space: pre-wrap; word-wrap: break-word;\">- result 17 ({'filename': 'EUR0037.txt', 'title': None})-\n",
       "'(12) ‘other wooded land’ means land not classified as ‘forest’ spanning more than 0,5 hectares, with trees higher than 5 metres and a canopy cover of 5 to 10 %, or trees able to reach those thresholds in situ, or with a combined cover of shrubs, bushes and trees above 10 %, excluding land that is predominantly under agricultural or urban land use;\n",
       "(13) ‘deforestation-free’ means:'\n",
       "</div>"
      ],
      "text/plain": [
       "<IPython.core.display.HTML object>"
      ]
     },
     "metadata": {},
     "output_type": "display_data"
    },
    {
     "data": {
      "text/html": [
       "<div style=\"white-space: pre-wrap; word-wrap: break-word;\">- result 18 ({'filename': 'EUR0060.txt', 'title': None})-\n",
       "'forest products occurs should be considered to be biodiverse forests, provided that the human impact is small. Other types of forest as defined by the FAO, such as modified natural forests, semi-natural forests and plantations, should not be considered to be primary forests. Having regard, furthermore, to the highly biodiverse nature of certain grasslands, both temperate and tropical, including highly biodiverse savannahs, steppes, scrublands and prairies, biofuels, bioliquids and biomass fuels made from'\n",
       "</div>"
      ],
      "text/plain": [
       "<IPython.core.display.HTML object>"
      ]
     },
     "metadata": {},
     "output_type": "display_data"
    },
    {
     "data": {
      "text/html": [
       "<div style=\"white-space: pre-wrap; word-wrap: break-word;\">- result 19 ({'filename': 'EUR0037.txt', 'title': None})-\n",
       "'of waters and soils as well as for water retention and recharge. Large forest areas act as a moisture source and help prevent desertification of continental regions. In addition, forests provide subsistence and income to approximately one third of the world’s population and the destruction of forests has serious consequences for the livelihoods of the most vulnerable people, including indigenous peoples and local communities who depend heavily on forest ecosystems. Furthermore, deforestation and forest'\n",
       "</div>"
      ],
      "text/plain": [
       "<IPython.core.display.HTML object>"
      ]
     },
     "metadata": {},
     "output_type": "display_data"
    },
    {
     "data": {
      "text/html": [
       "<div style=\"white-space: pre-wrap; word-wrap: break-word;\">- result 20 ({'filename': 'EUR0143.txt', 'title': None})-\n",
       "'(a) primary forest and other wooded land, namely forest and other wooded land of native species, where there is no clearly visible indication of human activity and the ecological processes are not significantly disturbed; and old growth forests as defined in the country where the forest is located;'\n",
       "</div>"
      ],
      "text/plain": [
       "<IPython.core.display.HTML object>"
      ]
     },
     "metadata": {},
     "output_type": "display_data"
    }
   ],
   "source": [
    "import lancedb\n",
    "\n",
    "# LANCEDB_DIR = \"../data/lancedb\"\n",
    "LANCEDB_DIR = \"/Users/leon/Documents/study/MA/lancedb\"\n",
    "\n",
    "# TABLE_NAME = \"climatepolicyradar\"\n",
    "TABLE_NAME = \"climatepolicyradar_laws_eur_en\"\n",
    "\n",
    "\n",
    "# --------------------------------------------------------------\n",
    "# Connect to the database\n",
    "# --------------------------------------------------------------\n",
    "\n",
    "db = lancedb.connect(LANCEDB_DIR)\n",
    "\n",
    "\n",
    "# --------------------------------------------------------------\n",
    "# Load the table\n",
    "# --------------------------------------------------------------\n",
    "\n",
    "table = db.open_table(TABLE_NAME)\n",
    "\n",
    "\n",
    "# --------------------------------------------------------------\n",
    "# Search the table\n",
    "# --------------------------------------------------------------\n",
    "\n",
    "query=\"\"\"\n",
    "Northern and alpine regions tend to have larger proportions of woodland, and in the most forested country, Finland, forests cover 68 % of the country.\n",
    "\"\"\"\n",
    "\n",
    "result = table.search(query=query.strip(), query_type=\"vector\").limit(20)\n",
    "\n",
    "df = result.to_pandas()\n",
    "\n",
    "for i, row in df.iterrows():\n",
    "    pretty_print(f\"- result {i+1} ({row[\"metadata\"]})-\\n'{row[\"text\"]}'\\n\")"
   ]
  }
 ],
 "metadata": {
  "kernelspec": {
   "display_name": "ma",
   "language": "python",
   "name": "python3"
  },
  "language_info": {
   "codemirror_mode": {
    "name": "ipython",
    "version": 3
   },
   "file_extension": ".py",
   "mimetype": "text/x-python",
   "name": "python",
   "nbconvert_exporter": "python",
   "pygments_lexer": "ipython3",
   "version": "3.12.9"
  }
 },
 "nbformat": 4,
 "nbformat_minor": 5
}
