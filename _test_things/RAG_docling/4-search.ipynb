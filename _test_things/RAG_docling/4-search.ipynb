{
 "cells": [
  {
   "cell_type": "code",
   "execution_count": 44,
   "id": "f496088e",
   "metadata": {},
   "outputs": [],
   "source": [
    "from openai import OpenAI\n",
    "client = OpenAI()\n",
    "\n",
    "def get_embedding(text, model=\"text-embedding-3-small\"):\n",
    "    text = text.replace(\"\\n\", \" \")\n",
    "    return client.embeddings.create(input = [text], model=model).data[0].embedding\n"
   ]
  },
  {
   "cell_type": "code",
   "execution_count": 45,
   "id": "1157059c",
   "metadata": {},
   "outputs": [],
   "source": [
    "import lancedb\n",
    "\n",
    "LANCEDB_DIR = \"../data/lancedb\"\n",
    "TABLE_NAME = \"climatepolicyradar\"\n",
    "\n",
    "# --------------------------------------------------------------\n",
    "# Connect to the database\n",
    "# --------------------------------------------------------------\n",
    "\n",
    "db = lancedb.connect(LANCEDB_DIR)\n",
    "\n",
    "\n",
    "# --------------------------------------------------------------\n",
    "# Load the table\n",
    "# --------------------------------------------------------------\n",
    "\n",
    "table = db.open_table(TABLE_NAME)\n",
    "\n",
    "\n",
    "# --------------------------------------------------------------\n",
    "# Search the table\n",
    "# --------------------------------------------------------------\n",
    "\n",
    "# query=\"By how much has the cost of solar photovoltaics (PV) decreased over the last decade?\"\n",
    "# query=\"What percentage of the EU's electricity generation was delivered by solar PV by the end of 2020?\"\n",
    "query=\"What is the target for solar photovoltaic (PV) capacity that the EU aims to achieve by 2025?\"\n",
    "\n",
    "result = table.search(query=query, query_type=\"vector\").limit(3)\n",
    "\n",
    "df = result.to_pandas()"
   ]
  },
  {
   "cell_type": "code",
   "execution_count": 46,
   "id": "9b10836a",
   "metadata": {},
   "outputs": [
    {
     "name": "stdout",
     "output_type": "stream",
     "text": [
      "- result[0]:\n",
      "'18 GW that year. It delivered around 5% of total EU electricity generation. To reach the 2030 target for renewables proposed by the Commission and the objectives of the REPowerEU plan, we need to radically step up a gear. Over this decade, the EU will need to install, on average, approximately 45 GW per year. Solar energy systems have long been a low-cost and reliable solution for heating in many European countries but overall solar heat accounts for just around 1.5% of heating needs. To reach the EU 2030 targets, energy demand covered by solar heat and geothermal should at least triple. Rooftops have been the place for most of the solar energy deployment so far, but huge untapped potential remains. It is a low-hanging fruit and the EU and its Member States must join forces to exploit it rapidly as much as possible, given multiple benefits for consumers. European Solar Rooftops Initiative According to some estimates, rooftop PV could provide almost 25% of the EU’s electricity consumption - this is more than the share of natural gas today. These installations – on residential, public, commercial and industrial roofs – can shield consumers from high energy prices, contributing to public acceptance of renewable energy.'\n",
      "- result[1]:\n",
      "'000 by 2025. -Ensure that energy poor and vulnerable consumers have access to solar energy, e.g. through social housing installations, energy communities, or financing support for individual installations. -Support building-integrated PVs for both new buildings and renovations. -Ensure full implementation of the current provisions in the Energy Performance of Buildings Directive (EPBD) in relation to the nearly zero-energy buildings standard for new buildings, including through dedicated guidance. Member States should: -Establish robust support frameworks for rooftop systems, including in combination with energy storage and heat-pumps, based on predictable payback times that are shorter than 10 years. -As part of such a framework and where needed to unlock investments, set up a national support programme to ensure as of next year: -massive deployment of rooftop solar energy, giving priority to most suitable'\n",
      "- result[2]:\n",
      "'of electricity after the first year of its implementation (36% more than expected in the Fit for 55 projections). By 2025, it will result in 58 TWh of additional electricity generated (more than double the Fit for 55 projections). Financing solar energy deployment Solar energy technologies have relatively high upfront costs, compared to other sources of energy, but low operational costs. Therefore, attractive financing conditions are crucial for their competitive deployment. Commission analysis indicates that additional investments in solar PVs under REPowerEU would amount to EUR 26 billion between now and 2027, on top of the investments needed to realise the objectives of the Fit for 55 proposals. Most of the financing will be private, but partially triggered by public funding, including from the EU. The Recovery and Resilience Facility already dedicated at least EUR 19 billion to accelerate the roll-out of renewables. Other instruments are contributing to this effort: the cohesion policy funds, InvestEU, the Innovation Fund, the Modernisation Fund, Horizon Europe and the LIFE programme. Connecting Europe Facility RES and the EU renewable energy financing mechanism will support cross-border cooperation on solar energy projects. Besides dedicated energy financing programmes, Member States should also look for synergies with transport infrastructure or research and innovation programmes,'\n"
     ]
    }
   ],
   "source": [
    "print(f\"- result[0]:\\n'{df[\"text\"][0]}'\")\n",
    "print(f\"- result[1]:\\n'{df[\"text\"][1]}'\")\n",
    "print(f\"- result[2]:\\n'{df[\"text\"][2]}'\")\n"
   ]
  }
 ],
 "metadata": {
  "kernelspec": {
   "display_name": "ma",
   "language": "python",
   "name": "python3"
  },
  "language_info": {
   "codemirror_mode": {
    "name": "ipython",
    "version": 3
   },
   "file_extension": ".py",
   "mimetype": "text/x-python",
   "name": "python",
   "nbconvert_exporter": "python",
   "pygments_lexer": "ipython3",
   "version": "3.12.9"
  }
 },
 "nbformat": 4,
 "nbformat_minor": 5
}
