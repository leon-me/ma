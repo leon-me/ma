{
 "cells": [
  {
   "cell_type": "code",
   "execution_count": 6,
   "id": "db87f994",
   "metadata": {},
   "outputs": [],
   "source": [
    "from docling.chunking import HybridChunker\n",
    "from docling.document_converter import DocumentConverter\n",
    "from dotenv import load_dotenv\n",
    "from openai import OpenAI\n",
    "from utils.tokenizer import OpenAITokenizerWrapper\n",
    "import os\n",
    "\n",
    "env_path = os.path.join(os.sep, \"Users\", \"leon\", \".env\")\n",
    "load_dotenv(env_path)\n",
    "\n",
    "# Initialize OpenAI client (make sure you have OPENAI_API_KEY in your environment variables)\n",
    "client = OpenAI()\n",
    "\n",
    "\n",
    "tokenizer = OpenAITokenizerWrapper()  # Load our custom tokenizer for OpenAI\n",
    "MAX_TOKENS = 512  # text-embedding-3-large's maximum context length\n",
    "\n",
    "\n",
    "# --------------------------------------------------------------\n",
    "# Extract the data\n",
    "# --------------------------------------------------------------\n",
    "\n",
    "\n",
    "converter = DocumentConverter()\n",
    "result = converter.convert(\"test.md\")\n",
    "\n",
    "\n",
    "# --------------------------------------------------------------\n",
    "# Apply hybrid chunking\n",
    "# --------------------------------------------------------------\n",
    "\n",
    "\n",
    "\n",
    "chunker = HybridChunker(\n",
    "    tokenizer=tokenizer,\n",
    "    max_tokens=MAX_TOKENS,\n",
    "    merge_peers=True,\n",
    ")\n",
    "\n",
    "\n",
    "chunk_iter = chunker.chunk(dl_doc=result.document)\n",
    "chunks = list(chunk_iter)"
   ]
  },
  {
   "cell_type": "code",
   "execution_count": 9,
   "id": "d8a19a60",
   "metadata": {},
   "outputs": [
    {
     "name": "stdout",
     "output_type": "stream",
     "text": [
      "76\n",
      "2292\n"
     ]
    }
   ],
   "source": [
    "print(len(chunks))\n",
    "\n",
    "print(len(chunks[0].text))"
   ]
  }
 ],
 "metadata": {
  "kernelspec": {
   "display_name": "ma",
   "language": "python",
   "name": "python3"
  },
  "language_info": {
   "codemirror_mode": {
    "name": "ipython",
    "version": 3
   },
   "file_extension": ".py",
   "mimetype": "text/x-python",
   "name": "python",
   "nbconvert_exporter": "python",
   "pygments_lexer": "ipython3",
   "version": "3.12.9"
  }
 },
 "nbformat": 4,
 "nbformat_minor": 5
}
