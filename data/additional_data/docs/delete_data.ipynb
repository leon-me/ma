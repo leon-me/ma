{
 "cells": [
  {
   "cell_type": "code",
   "execution_count": 1,
   "id": "ef79fc39",
   "metadata": {},
   "outputs": [],
   "source": [
    "import pandas as pd\n",
    "\n",
    "\n",
    "data = pd.read_csv(\"_embeddings.csv\", dtype={\"doc_id\": \"Int64\"})\n",
    "filtered_data = data[~data.apply(lambda row: str(row[\"doc_id\"]).startswith(\"400\"), axis=1)]"
   ]
  },
  {
   "cell_type": "code",
   "execution_count": null,
   "id": "501d656e",
   "metadata": {},
   "outputs": [
    {
     "name": "stdout",
     "output_type": "stream",
     "text": [
      "30\n"
     ]
    }
   ],
   "source": [
    "print(len(data) - len(filtered_data))\n",
    "\n",
    "# filtered_data.to_csv(\"_embeddings.csv\", index=False, mode=\"w\")"
   ]
  }
 ],
 "metadata": {
  "kernelspec": {
   "display_name": "ma",
   "language": "python",
   "name": "python3"
  },
  "language_info": {
   "codemirror_mode": {
    "name": "ipython",
    "version": 3
   },
   "file_extension": ".py",
   "mimetype": "text/x-python",
   "name": "python",
   "nbconvert_exporter": "python",
   "pygments_lexer": "ipython3",
   "version": "3.12.9"
  }
 },
 "nbformat": 4,
 "nbformat_minor": 5
}
