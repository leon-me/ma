{
 "cells": [
  {
   "cell_type": "code",
   "execution_count": 16,
   "id": "ef79fc39",
   "metadata": {},
   "outputs": [],
   "source": [
    "import pandas as pd\n",
    "\n",
    "\n",
    "data = pd.read_csv(\"_embeddings.csv\", dtype={\"doc_id\": \"Int64\"})\n",
    "filtered_data = data[~data.apply(lambda row: str(row[\"doc_id\"]).startswith(\"100\"), axis=1)]"
   ]
  },
  {
   "cell_type": "code",
   "execution_count": 17,
   "id": "501d656e",
   "metadata": {},
   "outputs": [
    {
     "name": "stdout",
     "output_type": "stream",
     "text": [
      "removing 0\n"
     ]
    }
   ],
   "source": [
    "print(f\"removing {len(data) - len(filtered_data)}\")\n",
    "\n",
    "filtered_data.to_csv(\"_embeddings.csv\", index=False, mode=\"w\")"
   ]
  },
  {
   "cell_type": "code",
   "execution_count": 26,
   "id": "4c36563c",
   "metadata": {},
   "outputs": [
    {
     "data": {
      "text/html": [
       "<div>\n",
       "<style scoped>\n",
       "    .dataframe tbody tr th:only-of-type {\n",
       "        vertical-align: middle;\n",
       "    }\n",
       "\n",
       "    .dataframe tbody tr th {\n",
       "        vertical-align: top;\n",
       "    }\n",
       "\n",
       "    .dataframe thead th {\n",
       "        text-align: right;\n",
       "    }\n",
       "</style>\n",
       "<table border=\"1\" class=\"dataframe\">\n",
       "  <thead>\n",
       "    <tr style=\"text-align: right;\">\n",
       "      <th></th>\n",
       "      <th>id1</th>\n",
       "      <th>id2</th>\n",
       "      <th>model</th>\n",
       "      <th>conflicting_passage_doc1</th>\n",
       "      <th>conflicting_passage_doc2</th>\n",
       "    </tr>\n",
       "  </thead>\n",
       "  <tbody>\n",
       "    <tr>\n",
       "      <th>0</th>\n",
       "      <td>400128</td>\n",
       "      <td>128</td>\n",
       "      <td>gpt-4.1</td>\n",
       "      <td>The proceedings were overseen by Chief Judge O...</td>\n",
       "      <td>Chief Judge: W. Hernandez  \\nJudge: O. Edwards...</td>\n",
       "    </tr>\n",
       "    <tr>\n",
       "      <th>1</th>\n",
       "      <td>400128</td>\n",
       "      <td>128</td>\n",
       "      <td>gpt-4.1</td>\n",
       "      <td>On June 2, 2023, the Lakewood, Mayfield, Court...</td>\n",
       "      <td>*This judgment is issued under the authority o...</td>\n",
       "    </tr>\n",
       "    <tr>\n",
       "      <th>2</th>\n",
       "      <td>400132</td>\n",
       "      <td>132</td>\n",
       "      <td>gpt-4.1</td>\n",
       "      <td>The case, overseen by Chief Judge A. Salazar, ...</td>\n",
       "      <td>**Chief Judge:** I. Torres  \\n**Judge:** H. Hi...</td>\n",
       "    </tr>\n",
       "    <tr>\n",
       "      <th>3</th>\n",
       "      <td>400132</td>\n",
       "      <td>132</td>\n",
       "      <td>gpt-4.1</td>\n",
       "      <td>Mr. Ruiz, an Indian businessman, orchestrated ...</td>\n",
       "      <td>During this period, Mr. Ruiz executed a financ...</td>\n",
       "    </tr>\n",
       "    <tr>\n",
       "      <th>4</th>\n",
       "      <td>400132</td>\n",
       "      <td>132</td>\n",
       "      <td>gpt-4.1</td>\n",
       "      <td>During the proceedings, it was revealed that b...</td>\n",
       "      <td>Subsequently, Mr. Ruiz engaged in the delibera...</td>\n",
       "    </tr>\n",
       "    <tr>\n",
       "      <th>...</th>\n",
       "      <td>...</td>\n",
       "      <td>...</td>\n",
       "      <td>...</td>\n",
       "      <td>...</td>\n",
       "      <td>...</td>\n",
       "    </tr>\n",
       "    <tr>\n",
       "      <th>132</th>\n",
       "      <td>400059</td>\n",
       "      <td>59</td>\n",
       "      <td>gpt-4.1</td>\n",
       "      <td>Among these was the distribution of $4 million...</td>\n",
       "      <td>Firstly, the company decided to distribute $5 ...</td>\n",
       "    </tr>\n",
       "    <tr>\n",
       "      <th>133</th>\n",
       "      <td>400059</td>\n",
       "      <td>59</td>\n",
       "      <td>gpt-4.1</td>\n",
       "      <td>The year also saw the company opening three ne...</td>\n",
       "      <td>Retail Emporium opened five new stores in key ...</td>\n",
       "    </tr>\n",
       "    <tr>\n",
       "      <th>134</th>\n",
       "      <td>400059</td>\n",
       "      <td>59</td>\n",
       "      <td>gpt-4.1</td>\n",
       "      <td>In January, Retail Emporium achieved remarkabl...</td>\n",
       "      <td>In January, Retail Emporium achieved remarkabl...</td>\n",
       "    </tr>\n",
       "    <tr>\n",
       "      <th>135</th>\n",
       "      <td>400059</td>\n",
       "      <td>59</td>\n",
       "      <td>gpt-4.1</td>\n",
       "      <td>The appointment of Mr. John Doe as a new board...</td>\n",
       "      <td>The appointment of Ms. Sarah Johnson as a new ...</td>\n",
       "    </tr>\n",
       "    <tr>\n",
       "      <th>136</th>\n",
       "      <td>400059</td>\n",
       "      <td>59</td>\n",
       "      <td>gpt-4.1</td>\n",
       "      <td>The company's financial indicators for 2020 we...</td>\n",
       "      <td>The operating income for 2020 was $500 million...</td>\n",
       "    </tr>\n",
       "  </tbody>\n",
       "</table>\n",
       "<p>137 rows × 5 columns</p>\n",
       "</div>"
      ],
      "text/plain": [
       "        id1  id2    model                           conflicting_passage_doc1  \\\n",
       "0    400128  128  gpt-4.1  The proceedings were overseen by Chief Judge O...   \n",
       "1    400128  128  gpt-4.1  On June 2, 2023, the Lakewood, Mayfield, Court...   \n",
       "2    400132  132  gpt-4.1  The case, overseen by Chief Judge A. Salazar, ...   \n",
       "3    400132  132  gpt-4.1  Mr. Ruiz, an Indian businessman, orchestrated ...   \n",
       "4    400132  132  gpt-4.1  During the proceedings, it was revealed that b...   \n",
       "..      ...  ...      ...                                                ...   \n",
       "132  400059   59  gpt-4.1  Among these was the distribution of $4 million...   \n",
       "133  400059   59  gpt-4.1  The year also saw the company opening three ne...   \n",
       "134  400059   59  gpt-4.1  In January, Retail Emporium achieved remarkabl...   \n",
       "135  400059   59  gpt-4.1  The appointment of Mr. John Doe as a new board...   \n",
       "136  400059   59  gpt-4.1  The company's financial indicators for 2020 we...   \n",
       "\n",
       "                              conflicting_passage_doc2  \n",
       "0    Chief Judge: W. Hernandez  \\nJudge: O. Edwards...  \n",
       "1    *This judgment is issued under the authority o...  \n",
       "2    **Chief Judge:** I. Torres  \\n**Judge:** H. Hi...  \n",
       "3    During this period, Mr. Ruiz executed a financ...  \n",
       "4    Subsequently, Mr. Ruiz engaged in the delibera...  \n",
       "..                                                 ...  \n",
       "132  Firstly, the company decided to distribute $5 ...  \n",
       "133  Retail Emporium opened five new stores in key ...  \n",
       "134  In January, Retail Emporium achieved remarkabl...  \n",
       "135  The appointment of Ms. Sarah Johnson as a new ...  \n",
       "136  The operating income for 2020 was $500 million...  \n",
       "\n",
       "[137 rows x 5 columns]"
      ]
     },
     "execution_count": 26,
     "metadata": {},
     "output_type": "execute_result"
    }
   ],
   "source": [
    "data = pd.read_csv(\"_conflicts.csv\", dtype={\"id1\": \"Int64\", \"id2\": \"Int64\"})\n",
    "\n",
    "\n",
    "def filter_out_data(row, prefix: str):\n",
    "    if str(row[\"id1\"]).startswith(prefix) or str(row[\"id2\"]).startswith(prefix):\n",
    "        return False\n",
    "    return True\n",
    "\n",
    "\n",
    "filtered_data = data[data.apply(filter_out_data, axis=1, args=(\"100\",))]\n",
    "filtered_data = filtered_data[filtered_data.apply(filter_out_data, axis=1, args=(\"300\",))]\n",
    "\n",
    "\n",
    "filtered_data.to_csv(\"_conflicts.csv\", index=False)\n",
    "filtered_data"
   ]
  },
  {
   "cell_type": "code",
   "execution_count": 4,
   "id": "368ba7f2",
   "metadata": {},
   "outputs": [],
   "source": [
    "import pandas as pd\n",
    "\n",
    "data = pd.read_csv(\"../queries/multi_textual_manipulations.csv\")\n",
    "transformed_data = data.assign(keypoints=\"[]\")\n",
    "transformed_data.to_csv(\"../queries/multi_textual_manipulations_new.csv\")"
   ]
  },
  {
   "cell_type": "code",
   "execution_count": 14,
   "id": "3c3b8ebe",
   "metadata": {},
   "outputs": [
    {
     "name": "stdout",
     "output_type": "stream",
     "text": [
      "60\n",
      "144\n",
      "22\n"
     ]
    }
   ],
   "source": [
    "import pandas as pd\n",
    "\n",
    "data = pd.read_csv(\"../queries/multi_textual_manipulations.csv\")\n",
    "lookup_tabular = pd.read_csv(\"../queries/tabular_manipulations_result.csv\")\n",
    "lookup_text_single = pd.read_csv(\"../queries/textual_manipulations_result.csv\")\n",
    "query_ids = lookup_tabular[\"query.original_query_id\"].to_list()\n",
    "query_ids.extend(lookup_text_single[\"query.original_query_id\"])\n",
    "\n",
    "print(len(query_ids))\n",
    "print(len(data))\n",
    "data_filtered = data.loc[data[\"query.original_query_id\"].isin(query_ids)]\n",
    "print(len(data_filtered))"
   ]
  },
  {
   "cell_type": "code",
   "execution_count": 6,
   "id": "7fa309f1",
   "metadata": {},
   "outputs": [
    {
     "name": "stdout",
     "output_type": "stream",
     "text": [
      "5\n"
     ]
    }
   ],
   "source": [
    "import pandas as pd\n",
    "\n",
    "docs_to_retain = [100119, 100123, 100208, 100046, 100071]\n",
    "\n",
    "docs = pd.read_csv(\"single_tabular_manipulations_rows.csv\")\n",
    "docs_filtered = docs.loc[docs[\"doc_id\"].isin(docs_to_retain)]\n",
    "print(len(docs_filtered))\n",
    "\n",
    "# docs_filtered.to_csv(\"textual_manipulations_result.csv\")"
   ]
  },
  {
   "cell_type": "code",
   "execution_count": 9,
   "id": "a649e9fb",
   "metadata": {},
   "outputs": [
    {
     "name": "stdout",
     "output_type": "stream",
     "text": [
      "5\n"
     ]
    }
   ],
   "source": [
    "import ast\n",
    "\n",
    "docs_to_retain = [119, 123, 208, 46, 71]\n",
    "queries = pd.read_csv(\n",
    "    \"../queries/textual_manipulations_result.csv\", converters={\"ground_truth.doc_ids\": ast.literal_eval}\n",
    ")\n",
    "queries_filtered = queries.loc[queries[\"ground_truth.doc_ids\"].apply(lambda x: x[0] in docs_to_retain)]\n",
    "print(len(queries_filtered))\n",
    "\n",
    "queries_filtered.to_csv(\"../queries/textual_manipulations_result.csv\")"
   ]
  }
 ],
 "metadata": {
  "kernelspec": {
   "display_name": "ma",
   "language": "python",
   "name": "python3"
  },
  "language_info": {
   "codemirror_mode": {
    "name": "ipython",
    "version": 3
   },
   "file_extension": ".py",
   "mimetype": "text/x-python",
   "name": "python",
   "nbconvert_exporter": "python",
   "pygments_lexer": "ipython3",
   "version": "3.12.9"
  }
 },
 "nbformat": 4,
 "nbformat_minor": 5
}
