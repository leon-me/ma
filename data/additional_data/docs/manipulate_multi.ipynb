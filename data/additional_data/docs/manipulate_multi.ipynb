{
 "cells": [
  {
   "cell_type": "code",
   "execution_count": 10,
   "id": "7822d3b8",
   "metadata": {},
   "outputs": [],
   "source": [
    "import pandas as pd\n",
    "\n",
    "docs: pd.DataFrame = pd.read_csv(\"_embeddings.csv\", dtype={\"doc_id\": str})\n",
    "\n",
    "filtered_docs = docs[~docs.apply(lambda row: str(row[\"doc_id\"]).startswith(\"400\"), axis=1)]\n",
    "\n",
    "filtered_docs.to_csv(\"_embeddings_v02.csv\", mode=\"w\", index=False)"
   ]
  }
 ],
 "metadata": {
  "kernelspec": {
   "display_name": "ma",
   "language": "python",
   "name": "python3"
  },
  "language_info": {
   "codemirror_mode": {
    "name": "ipython",
    "version": 3
   },
   "file_extension": ".py",
   "mimetype": "text/x-python",
   "name": "python",
   "nbconvert_exporter": "python",
   "pygments_lexer": "ipython3",
   "version": "3.12.9"
  }
 },
 "nbformat": 4,
 "nbformat_minor": 5
}
