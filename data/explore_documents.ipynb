{
 "cells": [
  {
   "cell_type": "code",
   "execution_count": 14,
   "id": "1e917d6e",
   "metadata": {},
   "outputs": [],
   "source": [
    "import pandas as pd\n",
    "import ast\n",
    "\n",
    "\n",
    "def get_documents(print_info: bool = False, read_embeddings: bool = False) -> pd.DataFrame:\n",
    "    docs_original = pd.read_csv(\"DRAGONball/en/docs.csv\", usecols=[\"doc_id\", \"domain\", \"content\"])\n",
    "    docs_manipulated_single_textual = pd.read_csv(\n",
    "        \"additional_data/docs/textual_manipulations_result.csv\",\n",
    "        usecols=[\"doc_id\", \"domain\", \"content\", \"original_doc_id\"],\n",
    "        dtype={\"original_doc_id\": \"Int64\"},\n",
    "    )\n",
    "    docs_manipulated_single_textual[\"original_doc_id\"] = docs_manipulated_single_textual[\"original_doc_id\"].apply(\n",
    "        lambda i: [i] if pd.notna(i) else []\n",
    "    )\n",
    "    docs_manipulated_single_textual.rename(columns={\"original_doc_id\": \"original_doc_ids\"}, inplace=True)\n",
    "\n",
    "    docs_manipulated_single_tabular = pd.read_csv(\n",
    "        \"additional_data/docs/tabular_manipulations_result.csv\",\n",
    "        usecols=[\"doc_id\", \"domain\", \"content\", \"original_doc_ids\"],\n",
    "        converters={\"original_doc_ids\": ast.literal_eval},\n",
    "    )\n",
    "\n",
    "    docs_manipulated_multi_textual = pd.read_csv(\n",
    "        \"additional_data/docs/multi_textual_manipulations.csv\",\n",
    "        usecols=[\"doc_id\", \"domain\", \"content\", \"original_doc_id\"],\n",
    "        dtype={\"original_doc_id\": \"Int64\"},\n",
    "    )\n",
    "    docs_manipulated_multi_textual[\"original_doc_id\"] = docs_manipulated_multi_textual[\"original_doc_id\"].apply(\n",
    "        lambda i: [i] if pd.notna(i) else []\n",
    "    )\n",
    "    docs_manipulated_multi_textual.rename(columns={\"original_doc_id\": \"original_doc_ids\"}, inplace=True)\n",
    "\n",
    "    if print_info == True:\n",
    "        print(f\"# original docs: {len(docs_original)}\")\n",
    "        print(f\"# manipulated textual docs: {len(docs_manipulated_single_textual)}\")\n",
    "        print(f\"# manipulated tabular docs: {len(docs_manipulated_single_tabular)}\")\n",
    "        print(f\"# manipulated textual multi docs: {len(docs_manipulated_multi_textual)}\")\n",
    "        print(\n",
    "            f\"= {len(docs_original) + len(docs_manipulated_single_textual) + len(docs_manipulated_single_tabular) + len(docs_manipulated_multi_textual)} documents in total\"\n",
    "        )\n",
    "\n",
    "    result = pd.concat(\n",
    "        [\n",
    "            docs_original,\n",
    "            docs_manipulated_single_textual,\n",
    "            docs_manipulated_multi_textual,\n",
    "            docs_manipulated_single_tabular,\n",
    "        ],\n",
    "        sort=False,\n",
    "    )\n",
    "\n",
    "    return result"
   ]
  },
  {
   "cell_type": "code",
   "execution_count": 15,
   "id": "4456a14f",
   "metadata": {},
   "outputs": [
    {
     "name": "stdout",
     "output_type": "stream",
     "text": [
      "# original docs: 108\n",
      "# manipulated textual docs: 30\n",
      "# manipulated tabular docs: 3\n",
      "# manipulated textual multi docs: 30\n",
      "= 171 documents in total\n",
      "\n",
      "Avegare no. of tokens per document: 1448.32\n"
     ]
    }
   ],
   "source": [
    "import tiktoken\n",
    "import numpy as np\n",
    "\n",
    "encoding = tiktoken.encoding_for_model(\"gpt-4o\")\n",
    "\n",
    "documents = get_documents(print_info=True)\n",
    "\n",
    "lengths = []\n",
    "\n",
    "for text in documents[\"content\"]:\n",
    "    tokens = encoding.encode(text)\n",
    "    lengths.append(len(tokens))\n",
    "\n",
    "print()\n",
    "print(f\"Avegare no. of tokens per document: {np.mean(lengths):.2f}\")"
   ]
  }
 ],
 "metadata": {
  "kernelspec": {
   "display_name": "ma",
   "language": "python",
   "name": "python3"
  },
  "language_info": {
   "codemirror_mode": {
    "name": "ipython",
    "version": 3
   },
   "file_extension": ".py",
   "mimetype": "text/x-python",
   "name": "python",
   "nbconvert_exporter": "python",
   "pygments_lexer": "ipython3",
   "version": "3.12.9"
  }
 },
 "nbformat": 4,
 "nbformat_minor": 5
}
