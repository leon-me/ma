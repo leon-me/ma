{
 "cells": [
  {
   "cell_type": "code",
   "execution_count": 1,
   "id": "31c6450b",
   "metadata": {},
   "outputs": [],
   "source": [
    "### take user_prompt from the txt folder and create a json-formatted prompt\n",
    "\n",
    "import os\n",
    "import json\n",
    "\n",
    "system_prompts = {\n",
    "    \"maniupaltions/manipulation_single_textual\": \"You are an expert in manipulation of textual data.\",\n",
    "    \"manipulations/manipulation_multi_textual\": \"You are an expert in manipulation of textual data.\",\n",
    "    \"manipulations/manipulation_multi_textual_v02\": \"You are an expert in manipulation of textual data.\",\n",
    "    \"manipulations/manipulation_multi_textual_v03\": \"You are an expert in manipulation of textual data.\",\n",
    "    \"manipulations/manipulation_single_tabular\": \"You are an expert in manipulation and transformation of textual data.\",\n",
    "    \"comparison/check_for_contradictions\": \"You are an expert at comparing documents with each other.\",\n",
    "    \"comparison/extract_contradictions\": \"You are an expert at comparing documents with each other.\",\n",
    "}\n",
    "\n",
    "filename = \"manipulations/manipulation_multi_textual_v03\"\n",
    "\n",
    "system_prompt = system_prompts[filename]\n",
    "\n",
    "file_path_txt = os.path.join(\"txt\", filename + \".txt\")\n",
    "file_path_json = os.path.join(\"json\", filename + \".json\")\n",
    "\n",
    "with open(file_path_txt, \"r\") as f:\n",
    "    user_prompt = f.read()\n",
    "\n",
    "os.makedirs(os.path.dirname(file_path_json), exist_ok=True)\n",
    "with open(file_path_json, \"w\") as f:\n",
    "    content = {\"prompt_name\": filename, \"system_prompt\": system_prompt, \"user_prompt\": user_prompt}\n",
    "    json.dump(content, f)"
   ]
  }
 ],
 "metadata": {
  "kernelspec": {
   "display_name": "ma",
   "language": "python",
   "name": "python3"
  },
  "language_info": {
   "codemirror_mode": {
    "name": "ipython",
    "version": 3
   },
   "file_extension": ".py",
   "mimetype": "text/x-python",
   "name": "python",
   "nbconvert_exporter": "python",
   "pygments_lexer": "ipython3",
   "version": "3.12.9"
  }
 },
 "nbformat": 4,
 "nbformat_minor": 5
}
