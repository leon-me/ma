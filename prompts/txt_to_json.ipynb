{
 "cells": [
  {
   "cell_type": "code",
   "execution_count": 1,
   "id": "31c6450b",
   "metadata": {},
   "outputs": [],
   "source": [
    "import os\n",
    "import json\n",
    "\n",
    "# name = \"generate_keypoints\"\n",
    "name = \"create_tabular_docs\"\n",
    "file_name_txt = name + \".txt\"\n",
    "file_name_json = name + \".json\"\n",
    "\n",
    "with open(os.path.join(\"txt\", file_name_txt), \"r\") as f:\n",
    "    content = f.read()\n",
    "\n",
    "with open(os.path.join(\"json\", file_name_json), \"w\") as f:\n",
    "    json.dump({\"prompt\": content}, f)"
   ]
  }
 ],
 "metadata": {
  "kernelspec": {
   "display_name": "ma",
   "language": "python",
   "name": "python3"
  },
  "language_info": {
   "codemirror_mode": {
    "name": "ipython",
    "version": 3
   },
   "file_extension": ".py",
   "mimetype": "text/x-python",
   "name": "python",
   "nbconvert_exporter": "python",
   "pygments_lexer": "ipython3",
   "version": "3.12.9"
  }
 },
 "nbformat": 4,
 "nbformat_minor": 5
}
