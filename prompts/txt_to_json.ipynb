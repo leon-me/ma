{
 "cells": [
  {
   "cell_type": "code",
   "execution_count": 5,
   "id": "31c6450b",
   "metadata": {},
   "outputs": [],
   "source": [
    "### take user_prompt from the txt folder and create a json-formatted prompt\n",
    "\n",
    "import os\n",
    "import json\n",
    "from typing import Literal\n",
    "\n",
    "filename: Literal[\"manipulation_textual\", \"manipulation_tabular\"]\n",
    "system_prompts = {\n",
    "    \"textual\": \"You are an expert in manipulation of textual data.\",\n",
    "    \"tabular\": \"You are an expert in manipulation and transformation of textual data.\",\n",
    "}\n",
    "\n",
    "filename = \"manipulation_tabular\"\n",
    "\n",
    "system_prompt = system_prompts[\"tabular\"] if filename == \"manipulation_tabular\" else \"\"\n",
    "system_prompt = system_prompts[\"textual\"] if filename == \"manipulation_textual\" else \"\"\n",
    "\n",
    "file_name_txt = filename + \".txt\"\n",
    "file_name_json = filename + \".json\"\n",
    "\n",
    "with open(os.path.join(\"txt\", file_name_txt), \"r\") as f:\n",
    "    user_prompt = f.read()\n",
    "\n",
    "with open(os.path.join(\"json\", file_name_json), \"w\") as f:\n",
    "    content = {\"prompt_name\": filename, \"system_prompt\": system_prompt, \"user_prompt\": user_prompt}\n",
    "    json.dump(content, f)"
   ]
  }
 ],
 "metadata": {
  "kernelspec": {
   "display_name": "ma",
   "language": "python",
   "name": "python3"
  },
  "language_info": {
   "codemirror_mode": {
    "name": "ipython",
    "version": 3
   },
   "file_extension": ".py",
   "mimetype": "text/x-python",
   "name": "python",
   "nbconvert_exporter": "python",
   "pygments_lexer": "ipython3",
   "version": "3.12.9"
  }
 },
 "nbformat": 4,
 "nbformat_minor": 5
}
