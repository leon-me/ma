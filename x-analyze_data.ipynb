{
 "cells": [
  {
   "cell_type": "code",
   "execution_count": 5,
   "id": "993a74d5",
   "metadata": {},
   "outputs": [
    {
     "name": "stderr",
     "output_type": "stream",
     "text": [
      "\u001b[90m[\u001b[0m2025-06-15T14:59:54Z \u001b[33mWARN \u001b[0m lance::dataset::scanner\u001b[90m]\u001b[0m nprobes is not set because nearest has not been called yet\n"
     ]
    },
    {
     "data": {
      "text/html": [
       "<div>\n",
       "<style scoped>\n",
       "    .dataframe tbody tr th:only-of-type {\n",
       "        vertical-align: middle;\n",
       "    }\n",
       "\n",
       "    .dataframe tbody tr th {\n",
       "        vertical-align: top;\n",
       "    }\n",
       "\n",
       "    .dataframe thead th {\n",
       "        text-align: right;\n",
       "    }\n",
       "</style>\n",
       "<table border=\"1\" class=\"dataframe\">\n",
       "  <thead>\n",
       "    <tr style=\"text-align: right;\">\n",
       "      <th></th>\n",
       "      <th>vector</th>\n",
       "      <th>id</th>\n",
       "      <th>text</th>\n",
       "      <th>metadata</th>\n",
       "    </tr>\n",
       "  </thead>\n",
       "  <tbody>\n",
       "    <tr>\n",
       "      <th>0</th>\n",
       "      <td>[0.0062206797, -3.3415166e-05, 0.023444567, 0....</td>\n",
       "      <td>2457</td>\n",
       "      <td>Hospitalization Record\\n\\nBasic Information:\\n...</td>\n",
       "      <td>{'chunk_id': 2457, 'creation_date': 2000-01-01...</td>\n",
       "    </tr>\n",
       "  </tbody>\n",
       "</table>\n",
       "</div>"
      ],
      "text/plain": [
       "                                              vector    id  \\\n",
       "0  [0.0062206797, -3.3415166e-05, 0.023444567, 0....  2457   \n",
       "\n",
       "                                                text  \\\n",
       "0  Hospitalization Record\\n\\nBasic Information:\\n...   \n",
       "\n",
       "                                            metadata  \n",
       "0  {'chunk_id': 2457, 'creation_date': 2000-01-01...  "
      ]
     },
     "execution_count": 5,
     "metadata": {},
     "output_type": "execute_result"
    }
   ],
   "source": [
    "# lancedb\n",
    "\n",
    "import lancedb\n",
    "import importlib\n",
    "from langchain.vectorstores import LanceDB\n",
    "from langchain.embeddings import OpenAIEmbeddings\n",
    "\n",
    "# DB specifications\n",
    "LANCEDB_DIR = \"/Users/leon/Documents/study/MA/lancedb\"\n",
    "TABLE_NAME_DOCS = \"documents\"\n",
    "TABLE_NAME_CHUNKS = \"chunks\"\n",
    "\n",
    "db = lancedb.connect(LANCEDB_DIR)\n",
    "\n",
    "table = db.open_table(TABLE_NAME_CHUNKS)\n",
    "\n",
    "res = table.search().where(\"id = 2457\").to_pandas()\n",
    "res"
   ]
  },
  {
   "cell_type": "code",
   "execution_count": 13,
   "id": "f57fee14",
   "metadata": {},
   "outputs": [
    {
     "data": {
      "text/plain": [
       "[(46, 2),\n",
       " (71, 2),\n",
       " (208, 2),\n",
       " (119, 2),\n",
       " (123, 2),\n",
       " (111, 2),\n",
       " (113, 2),\n",
       " (122, 2),\n",
       " (124, 2),\n",
       " (129, 2),\n",
       " (131, 2),\n",
       " (135, 2),\n",
       " (138, 2),\n",
       " (178, 2),\n",
       " (182, 2),\n",
       " (185, 2),\n",
       " (191, 2),\n",
       " (195, 2),\n",
       " (197, 2),\n",
       " (201, 2),\n",
       " (206, 2),\n",
       " (210, 2),\n",
       " (41, 2),\n",
       " (44, 2),\n",
       " (49, 2),\n",
       " (54, 2),\n",
       " (55, 2),\n",
       " (62, 2),\n",
       " (67, 2),\n",
       " (69, 2),\n",
       " (128, 1),\n",
       " (132, 1),\n",
       " (133, 1),\n",
       " (134, 1),\n",
       " (136, 1),\n",
       " (205, 1),\n",
       " (139, 1),\n",
       " (40, 1),\n",
       " (42, 1),\n",
       " (52, 1),\n",
       " (53, 1),\n",
       " (183, 1),\n",
       " (188, 1),\n",
       " (192, 1),\n",
       " (65, 1),\n",
       " (194, 1),\n",
       " (198, 1),\n",
       " (199, 1),\n",
       " (74, 1),\n",
       " (202, 1),\n",
       " (204, 1),\n",
       " (75, 1),\n",
       " (78, 1),\n",
       " (79, 1),\n",
       " (207, 1),\n",
       " (213, 1),\n",
       " (214, 1),\n",
       " (110, 1),\n",
       " (116, 1),\n",
       " (59, 1)]"
      ]
     },
     "execution_count": 13,
     "metadata": {},
     "output_type": "execute_result"
    }
   ],
   "source": [
    "from utils import io_helpers\n",
    "from collections import Counter\n",
    "import importlib\n",
    "\n",
    "importlib.reload(io_helpers)\n",
    "\n",
    "documents = io_helpers.get_documents()\n",
    "\n",
    "# print(len(documents))\n",
    "# print(documents[\"original_doc_ids\"])\n",
    "c = Counter()\n",
    "\n",
    "documents[\"original_doc_ids\"].apply(lambda x: c.update(x) if len(x) > 0 else None)\n",
    "\n",
    "# documents[\"original_doc_ids\"].apply(lambda x: print(type(x)))\n",
    "\n",
    "\n",
    "c.most_common()"
   ]
  },
  {
   "cell_type": "code",
   "execution_count": 1,
   "id": "f1fbac42",
   "metadata": {},
   "outputs": [
    {
     "ename": "NameError",
     "evalue": "name 'documents' is not defined",
     "output_type": "error",
     "traceback": [
      "\u001b[31m---------------------------------------------------------------------------\u001b[39m",
      "\u001b[31mNameError\u001b[39m                                 Traceback (most recent call last)",
      "\u001b[36mCell\u001b[39m\u001b[36m \u001b[39m\u001b[32mIn[1]\u001b[39m\u001b[32m, line 20\u001b[39m\n\u001b[32m      8\u001b[39m ids_multi = second_mapping.loc[second_mapping[\u001b[33m\"\u001b[39m\u001b[33mmulti_textual_manipulation\u001b[39m\u001b[33m\"\u001b[39m].astype(\u001b[38;5;28mint\u001b[39m) == \u001b[32m1\u001b[39m][\u001b[33m\"\u001b[39m\u001b[33mdoc_id\u001b[39m\u001b[33m\"\u001b[39m].to_list()\n\u001b[32m     10\u001b[39m \u001b[38;5;66;03m# print(len(first_ids))\u001b[39;00m\n\u001b[32m     11\u001b[39m \u001b[38;5;66;03m# print(len(second_ids_single))\u001b[39;00m\n\u001b[32m     12\u001b[39m \u001b[38;5;66;03m# print(len(second_ids_multi))\u001b[39;00m\n\u001b[32m   (...)\u001b[39m\u001b[32m     15\u001b[39m \u001b[38;5;66;03m# print(first_ids.symmetric_difference(second_ids_single))\u001b[39;00m\n\u001b[32m     16\u001b[39m \u001b[38;5;66;03m# print(first_ids.intersection(second_ids_multi))\u001b[39;00m\n\u001b[32m     19\u001b[39m documents_single = (\n\u001b[32m---> \u001b[39m\u001b[32m20\u001b[39m     \u001b[43mdocuments\u001b[49m[documents[\u001b[33m\"\u001b[39m\u001b[33mdoc_id\u001b[39m\u001b[33m\"\u001b[39m].apply(\u001b[38;5;28;01mlambda\u001b[39;00m x: \u001b[38;5;28mstr\u001b[39m(x).startswith(\u001b[33m\"\u001b[39m\u001b[33m100\u001b[39m\u001b[33m\"\u001b[39m))][\u001b[33m\"\u001b[39m\u001b[33moriginal_doc_ids\u001b[39m\u001b[33m\"\u001b[39m]\n\u001b[32m     21\u001b[39m     .apply(\u001b[38;5;28;01mlambda\u001b[39;00m x: x[\u001b[32m0\u001b[39m])\n\u001b[32m     22\u001b[39m     .to_list()\n\u001b[32m     23\u001b[39m )\n\u001b[32m     25\u001b[39m documents_multi = (\n\u001b[32m     26\u001b[39m     documents[documents[\u001b[33m\"\u001b[39m\u001b[33mdoc_id\u001b[39m\u001b[33m\"\u001b[39m].apply(\u001b[38;5;28;01mlambda\u001b[39;00m x: \u001b[38;5;28mstr\u001b[39m(x).startswith(\u001b[33m\"\u001b[39m\u001b[33m400\u001b[39m\u001b[33m\"\u001b[39m))][\u001b[33m\"\u001b[39m\u001b[33moriginal_doc_ids\u001b[39m\u001b[33m\"\u001b[39m]\n\u001b[32m     27\u001b[39m     .apply(\u001b[38;5;28;01mlambda\u001b[39;00m x: x[\u001b[32m0\u001b[39m])\n\u001b[32m     28\u001b[39m     .to_list()\n\u001b[32m     29\u001b[39m )\n\u001b[32m     30\u001b[39m \u001b[38;5;66;03m# print(documents_single.symmetric_difference(ids_single))\u001b[39;00m\n",
      "\u001b[31mNameError\u001b[39m: name 'documents' is not defined"
     ]
    }
   ],
   "source": [
    "import pandas as pd\n",
    "\n",
    "first_mapping = pd.read_csv(\"data/doc_query_mapping_single.csv\", usecols=[\"doc_id\"])\n",
    "second_mapping = pd.read_csv(\"data/docs_to_manipulate.csv\")\n",
    "\n",
    "# first_ids = set(first_mapping[\"doc_id\"].to_list())\n",
    "ids_single = second_mapping.loc[second_mapping[\"multi_textual_manipulation\"].astype(int) == 0][\"doc_id\"].to_list()\n",
    "ids_multi = second_mapping.loc[second_mapping[\"multi_textual_manipulation\"].astype(int) == 1][\"doc_id\"].to_list()\n",
    "\n",
    "# print(len(first_ids))\n",
    "# print(len(second_ids_single))\n",
    "# print(len(second_ids_multi))\n",
    "\n",
    "\n",
    "# print(first_ids.symmetric_difference(second_ids_single))\n",
    "# print(first_ids.intersection(second_ids_multi))\n",
    "\n",
    "\n",
    "documents_single = (\n",
    "    documents[documents[\"doc_id\"].apply(lambda x: str(x).startswith(\"100\"))][\"original_doc_ids\"]\n",
    "    .apply(lambda x: x[0])\n",
    "    .to_list()\n",
    ")\n",
    "\n",
    "documents_multi = (\n",
    "    documents[documents[\"doc_id\"].apply(lambda x: str(x).startswith(\"400\"))][\"original_doc_ids\"]\n",
    "    .apply(lambda x: x[0])\n",
    "    .to_list()\n",
    ")\n",
    "# print(documents_single.symmetric_difference(ids_single))\n",
    "documents_single.sort()\n",
    "documents_multi.sort()\n",
    "ids_single.sort()\n",
    "ids_multi.sort()\n",
    "\n",
    "print(len(set(documents_single).intersection(set(documents_multi))))\n",
    "\n",
    "print(documents_single)\n",
    "print(ids_single)\n",
    "print(ids_multi)"
   ]
  },
  {
   "cell_type": "code",
   "execution_count": 1,
   "id": "9305d222",
   "metadata": {},
   "outputs": [
    {
     "name": "stdout",
     "output_type": "stream",
     "text": [
      "204\n"
     ]
    }
   ],
   "source": [
    "from utils import io_helpers\n",
    "\n",
    "queries = io_helpers.get_queries(\"manipulated_only\")\n",
    "\n",
    "print(len(queries))"
   ]
  }
 ],
 "metadata": {
  "kernelspec": {
   "display_name": "ma",
   "language": "python",
   "name": "python3"
  },
  "language_info": {
   "codemirror_mode": {
    "name": "ipython",
    "version": 3
   },
   "file_extension": ".py",
   "mimetype": "text/x-python",
   "name": "python",
   "nbconvert_exporter": "python",
   "pygments_lexer": "ipython3",
   "version": "3.12.9"
  }
 },
 "nbformat": 4,
 "nbformat_minor": 5
}
